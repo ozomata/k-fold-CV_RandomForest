{
  "cells": [
    {
      "cell_type": "markdown",
      "metadata": {
        "id": "view-in-github",
        "colab_type": "text"
      },
      "source": [
        "<a href=\"https://colab.research.google.com/github/ozomata/k-fold-CV_RandomForest/blob/main/workshop_RF_classification_model_development_2023(1).ipynb\" target=\"_parent\"><img src=\"https://colab.research.google.com/assets/colab-badge.svg\" alt=\"Open In Colab\"/></a>"
      ]
    },
    {
      "cell_type": "markdown",
      "metadata": {
        "id": "0BHyAFS1e1A4"
      },
      "source": [
        "####  import the libaries used for this workshop"
      ]
    },
    {
      "cell_type": "code",
      "execution_count": null,
      "metadata": {
        "id": "k0z1IOxce1BM"
      },
      "outputs": [],
      "source": [
        "import pandas as pd\n",
        "import numpy as np\n",
        "import matplotlib.pyplot as plt\n",
        "from sklearn.model_selection import train_test_split\n",
        "#from sklearn.cross_validation import train_test_split\n",
        "from sklearn import metrics\n",
        "from sklearn.ensemble import RandomForestClassifier\n",
        "from sklearn.model_selection import cross_val_score\n",
        "from sklearn.metrics import classification_report\n",
        "from sklearn.model_selection import GridSearchCV\n"
      ]
    },
    {
      "cell_type": "markdown",
      "metadata": {
        "id": "K8dWPm5pe1BN"
      },
      "source": [
        "#### 1.1 read your data from csv file with pandas"
      ]
    },
    {
      "cell_type": "code",
      "execution_count": null,
      "metadata": {
        "id": "SzNTfO3Pe1BO",
        "outputId": "a598b95e-1b91-441a-bd4f-c72e2a70c29d"
      },
      "outputs": [
        {
          "data": {
            "text/plain": [
              "(287, 7)"
            ]
          },
          "execution_count": 2,
          "metadata": {},
          "output_type": "execute_result"
        }
      ],
      "source": [
        "directory= 'C:\\\\Users\\\\jugao\\\\OneDrive - University of Lincoln\\\\Teaching\\\\advanced machine learning\\\\Week09\\\\workshop.csv'\n",
        "### pip install xlrd and openpyxl in order to use xlx file\n",
        "\n",
        "data  = pd.read_csv(directory)\n",
        "data.shape"
      ]
    },
    {
      "cell_type": "code",
      "execution_count": null,
      "metadata": {
        "scrolled": false,
        "id": "K4VeFWGQe1BP",
        "outputId": "6fa71758-3257-4216-a810-6476182e7a1c"
      },
      "outputs": [
        {
          "data": {
            "text/html": [
              "<div>\n",
              "<style scoped>\n",
              "    .dataframe tbody tr th:only-of-type {\n",
              "        vertical-align: middle;\n",
              "    }\n",
              "\n",
              "    .dataframe tbody tr th {\n",
              "        vertical-align: top;\n",
              "    }\n",
              "\n",
              "    .dataframe thead th {\n",
              "        text-align: right;\n",
              "    }\n",
              "</style>\n",
              "<table border=\"1\" class=\"dataframe\">\n",
              "  <thead>\n",
              "    <tr style=\"text-align: right;\">\n",
              "      <th></th>\n",
              "      <th>1</th>\n",
              "      <th>2</th>\n",
              "      <th>3</th>\n",
              "      <th>4</th>\n",
              "      <th>5</th>\n",
              "      <th>6</th>\n",
              "      <th>class</th>\n",
              "    </tr>\n",
              "  </thead>\n",
              "  <tbody>\n",
              "    <tr>\n",
              "      <th>0</th>\n",
              "      <td>0.121927</td>\n",
              "      <td>0.289246</td>\n",
              "      <td>0.276243</td>\n",
              "      <td>0.042710</td>\n",
              "      <td>0.109247</td>\n",
              "      <td>0.026369</td>\n",
              "      <td>1</td>\n",
              "    </tr>\n",
              "    <tr>\n",
              "      <th>1</th>\n",
              "      <td>0.128410</td>\n",
              "      <td>0.318742</td>\n",
              "      <td>0.301159</td>\n",
              "      <td>0.046183</td>\n",
              "      <td>0.111704</td>\n",
              "      <td>0.029470</td>\n",
              "      <td>1</td>\n",
              "    </tr>\n",
              "    <tr>\n",
              "      <th>2</th>\n",
              "      <td>0.126103</td>\n",
              "      <td>0.316991</td>\n",
              "      <td>0.295062</td>\n",
              "      <td>0.048257</td>\n",
              "      <td>0.110985</td>\n",
              "      <td>0.029533</td>\n",
              "      <td>1</td>\n",
              "    </tr>\n",
              "    <tr>\n",
              "      <th>3</th>\n",
              "      <td>0.130321</td>\n",
              "      <td>0.267532</td>\n",
              "      <td>0.259763</td>\n",
              "      <td>0.047657</td>\n",
              "      <td>0.110084</td>\n",
              "      <td>0.024277</td>\n",
              "      <td>1</td>\n",
              "    </tr>\n",
              "    <tr>\n",
              "      <th>4</th>\n",
              "      <td>0.108340</td>\n",
              "      <td>0.258773</td>\n",
              "      <td>0.239539</td>\n",
              "      <td>0.044549</td>\n",
              "      <td>0.095185</td>\n",
              "      <td>0.024871</td>\n",
              "      <td>1</td>\n",
              "    </tr>\n",
              "  </tbody>\n",
              "</table>\n",
              "</div>"
            ],
            "text/plain": [
              "          1         2         3         4         5         6  class\n",
              "0  0.121927  0.289246  0.276243  0.042710  0.109247  0.026369      1\n",
              "1  0.128410  0.318742  0.301159  0.046183  0.111704  0.029470      1\n",
              "2  0.126103  0.316991  0.295062  0.048257  0.110985  0.029533      1\n",
              "3  0.130321  0.267532  0.259763  0.047657  0.110084  0.024277      1\n",
              "4  0.108340  0.258773  0.239539  0.044549  0.095185  0.024871      1"
            ]
          },
          "execution_count": 3,
          "metadata": {},
          "output_type": "execute_result"
        }
      ],
      "source": [
        "data.head() # check how your data looks like "
      ]
    },
    {
      "cell_type": "code",
      "execution_count": null,
      "metadata": {
        "id": "ndiHJfd8e1BQ"
      },
      "outputs": [],
      "source": [
        "#### 1.2 visualise the dataset"
      ]
    },
    {
      "cell_type": "markdown",
      "metadata": {
        "id": "bCk9NcMte1BQ"
      },
      "source": [
        "#### 1.2 prepare data to fit models from the table "
      ]
    },
    {
      "cell_type": "code",
      "execution_count": null,
      "metadata": {
        "scrolled": true,
        "id": "-T9Ep5i9e1BQ",
        "outputId": "df23185e-50ba-4a1f-d99a-7f5df4b8f521"
      },
      "outputs": [
        {
          "data": {
            "text/html": [
              "<div>\n",
              "<style scoped>\n",
              "    .dataframe tbody tr th:only-of-type {\n",
              "        vertical-align: middle;\n",
              "    }\n",
              "\n",
              "    .dataframe tbody tr th {\n",
              "        vertical-align: top;\n",
              "    }\n",
              "\n",
              "    .dataframe thead th {\n",
              "        text-align: right;\n",
              "    }\n",
              "</style>\n",
              "<table border=\"1\" class=\"dataframe\">\n",
              "  <thead>\n",
              "    <tr style=\"text-align: right;\">\n",
              "      <th></th>\n",
              "      <th>1</th>\n",
              "      <th>2</th>\n",
              "      <th>3</th>\n",
              "      <th>4</th>\n",
              "      <th>5</th>\n",
              "      <th>6</th>\n",
              "    </tr>\n",
              "  </thead>\n",
              "  <tbody>\n",
              "    <tr>\n",
              "      <th>0</th>\n",
              "      <td>0.121927</td>\n",
              "      <td>0.289246</td>\n",
              "      <td>0.276243</td>\n",
              "      <td>0.042710</td>\n",
              "      <td>0.109247</td>\n",
              "      <td>0.026369</td>\n",
              "    </tr>\n",
              "    <tr>\n",
              "      <th>1</th>\n",
              "      <td>0.128410</td>\n",
              "      <td>0.318742</td>\n",
              "      <td>0.301159</td>\n",
              "      <td>0.046183</td>\n",
              "      <td>0.111704</td>\n",
              "      <td>0.029470</td>\n",
              "    </tr>\n",
              "    <tr>\n",
              "      <th>2</th>\n",
              "      <td>0.126103</td>\n",
              "      <td>0.316991</td>\n",
              "      <td>0.295062</td>\n",
              "      <td>0.048257</td>\n",
              "      <td>0.110985</td>\n",
              "      <td>0.029533</td>\n",
              "    </tr>\n",
              "    <tr>\n",
              "      <th>3</th>\n",
              "      <td>0.130321</td>\n",
              "      <td>0.267532</td>\n",
              "      <td>0.259763</td>\n",
              "      <td>0.047657</td>\n",
              "      <td>0.110084</td>\n",
              "      <td>0.024277</td>\n",
              "    </tr>\n",
              "    <tr>\n",
              "      <th>4</th>\n",
              "      <td>0.108340</td>\n",
              "      <td>0.258773</td>\n",
              "      <td>0.239539</td>\n",
              "      <td>0.044549</td>\n",
              "      <td>0.095185</td>\n",
              "      <td>0.024871</td>\n",
              "    </tr>\n",
              "  </tbody>\n",
              "</table>\n",
              "</div>"
            ],
            "text/plain": [
              "          1         2         3         4         5         6\n",
              "0  0.121927  0.289246  0.276243  0.042710  0.109247  0.026369\n",
              "1  0.128410  0.318742  0.301159  0.046183  0.111704  0.029470\n",
              "2  0.126103  0.316991  0.295062  0.048257  0.110985  0.029533\n",
              "3  0.130321  0.267532  0.259763  0.047657  0.110084  0.024277\n",
              "4  0.108340  0.258773  0.239539  0.044549  0.095185  0.024871"
            ]
          },
          "execution_count": 12,
          "metadata": {},
          "output_type": "execute_result"
        }
      ],
      "source": [
        "reflectance = data.iloc[0::,0:6] # get the variables (features from col1 to col5)\n",
        "reflectance.head()"
      ]
    },
    {
      "cell_type": "code",
      "execution_count": null,
      "metadata": {
        "id": "iZKedOwbe1BR",
        "outputId": "e402f02b-b93e-4695-a8a4-09e5d5d8c2b8"
      },
      "outputs": [
        {
          "data": {
            "text/plain": [
              "0.121926576"
            ]
          },
          "execution_count": 23,
          "metadata": {},
          "output_type": "execute_result"
        }
      ],
      "source": [
        "reflectance.iloc[0,0] # get the top left values  "
      ]
    },
    {
      "cell_type": "code",
      "execution_count": null,
      "metadata": {
        "id": "6cD_pj09e1BR",
        "outputId": "5968d79c-55f9-47f9-e2fa-aa41c4445d58"
      },
      "outputs": [
        {
          "data": {
            "text/plain": [
              "(287, 6)"
            ]
          },
          "execution_count": 24,
          "metadata": {},
          "output_type": "execute_result"
        }
      ],
      "source": [
        "reflectance.shape\n",
        "X_data = np.array(reflectance.iloc[0:287,::])\n",
        "class_data = np.array(data.iloc[0:287,6])\n",
        "\n",
        "X_data.shape\n"
      ]
    },
    {
      "cell_type": "markdown",
      "metadata": {
        "id": "jEv9w2S8e1BR"
      },
      "source": [
        "#### 1.3 Search the optimal hyperparameters (In RF, one is the number of trees and another is the number of features) "
      ]
    },
    {
      "cell_type": "code",
      "execution_count": null,
      "metadata": {
        "id": "9DPS-Dr_e1BS",
        "outputId": "061db3ad-69c5-4efe-fba9-5e81f94a250d"
      },
      "outputs": [
        {
          "data": {
            "text/plain": [
              "{'mean_fit_time': array([0.08079724, 0.09839954, 0.0993989 , 0.10859857, 0.11680064,\n",
              "        0.12920041, 0.13500018, 0.14139781, 0.07760086, 0.0926003 ,\n",
              "        0.09680152, 0.12319946, 0.13259969, 0.12640018, 0.14499912,\n",
              "        0.14640079, 0.08519897, 0.10820098, 0.10199924, 0.09819961,\n",
              "        0.10800147, 0.1092021 , 0.11960087, 0.13180428]),\n",
              " 'std_fit_time': array([0.00955724, 0.01377499, 0.01118227, 0.00508624, 0.00735922,\n",
              "        0.01434277, 0.01058405, 0.00615007, 0.00361233, 0.00652947,\n",
              "        0.00601462, 0.01260762, 0.00801599, 0.00677019, 0.01134759,\n",
              "        0.00300773, 0.00601412, 0.01366019, 0.0078739 , 0.00563732,\n",
              "        0.00814905, 0.00213475, 0.00431945, 0.00483265]),\n",
              " 'mean_score_time': array([0.00639925, 0.00740147, 0.00720129, 0.00899897, 0.0083993 ,\n",
              "        0.01079965, 0.00920148, 0.00979977, 0.00619903, 0.00679965,\n",
              "        0.00779877, 0.00899887, 0.0084002 , 0.00959983, 0.00899973,\n",
              "        0.00999956, 0.00600095, 0.00739875, 0.00680022, 0.00640101,\n",
              "        0.00699883, 0.00719886, 0.00759902, 0.00859542]),\n",
              " 'std_score_time': array([0.00174522, 0.00120123, 0.00116596, 0.00209856, 0.00135619,\n",
              "        0.00147004, 0.00074834, 0.00098071, 0.00116575, 0.00116638,\n",
              "        0.00146859, 0.00167209, 0.00101979, 0.00162535, 0.00063354,\n",
              "        0.00063369, 0.00109393, 0.00185526, 0.00159953, 0.00049207,\n",
              "        0.00063211, 0.00040004, 0.00048971, 0.00079457]),\n",
              " 'param_max_features': masked_array(data=[2, 2, 2, 2, 2, 2, 2, 2, 3, 3, 3, 3, 3, 3, 3, 3, 4, 4,\n",
              "                    4, 4, 4, 4, 4, 4],\n",
              "              mask=[False, False, False, False, False, False, False, False,\n",
              "                    False, False, False, False, False, False, False, False,\n",
              "                    False, False, False, False, False, False, False, False],\n",
              "        fill_value='?',\n",
              "             dtype=object),\n",
              " 'param_n_estimators': masked_array(data=[40, 45, 50, 55, 60, 65, 70, 75, 40, 45, 50, 55, 60, 65,\n",
              "                    70, 75, 40, 45, 50, 55, 60, 65, 70, 75],\n",
              "              mask=[False, False, False, False, False, False, False, False,\n",
              "                    False, False, False, False, False, False, False, False,\n",
              "                    False, False, False, False, False, False, False, False],\n",
              "        fill_value='?',\n",
              "             dtype=object),\n",
              " 'params': [{'max_features': 2, 'n_estimators': 40},\n",
              "  {'max_features': 2, 'n_estimators': 45},\n",
              "  {'max_features': 2, 'n_estimators': 50},\n",
              "  {'max_features': 2, 'n_estimators': 55},\n",
              "  {'max_features': 2, 'n_estimators': 60},\n",
              "  {'max_features': 2, 'n_estimators': 65},\n",
              "  {'max_features': 2, 'n_estimators': 70},\n",
              "  {'max_features': 2, 'n_estimators': 75},\n",
              "  {'max_features': 3, 'n_estimators': 40},\n",
              "  {'max_features': 3, 'n_estimators': 45},\n",
              "  {'max_features': 3, 'n_estimators': 50},\n",
              "  {'max_features': 3, 'n_estimators': 55},\n",
              "  {'max_features': 3, 'n_estimators': 60},\n",
              "  {'max_features': 3, 'n_estimators': 65},\n",
              "  {'max_features': 3, 'n_estimators': 70},\n",
              "  {'max_features': 3, 'n_estimators': 75},\n",
              "  {'max_features': 4, 'n_estimators': 40},\n",
              "  {'max_features': 4, 'n_estimators': 45},\n",
              "  {'max_features': 4, 'n_estimators': 50},\n",
              "  {'max_features': 4, 'n_estimators': 55},\n",
              "  {'max_features': 4, 'n_estimators': 60},\n",
              "  {'max_features': 4, 'n_estimators': 65},\n",
              "  {'max_features': 4, 'n_estimators': 70},\n",
              "  {'max_features': 4, 'n_estimators': 75}],\n",
              " 'split0_test_score': array([0.77586207, 0.75862069, 0.75862069, 0.77586207, 0.81034483,\n",
              "        0.75862069, 0.75862069, 0.75862069, 0.75862069, 0.81034483,\n",
              "        0.79310345, 0.68965517, 0.79310345, 0.75862069, 0.79310345,\n",
              "        0.79310345, 0.74137931, 0.74137931, 0.72413793, 0.74137931,\n",
              "        0.74137931, 0.75862069, 0.75862069, 0.74137931]),\n",
              " 'split1_test_score': array([0.75862069, 0.74137931, 0.68965517, 0.70689655, 0.74137931,\n",
              "        0.70689655, 0.72413793, 0.74137931, 0.72413793, 0.75862069,\n",
              "        0.68965517, 0.75862069, 0.68965517, 0.75862069, 0.74137931,\n",
              "        0.72413793, 0.68965517, 0.74137931, 0.77586207, 0.77586207,\n",
              "        0.75862069, 0.75862069, 0.75862069, 0.74137931]),\n",
              " 'split2_test_score': array([0.84210526, 0.85964912, 0.84210526, 0.84210526, 0.85964912,\n",
              "        0.84210526, 0.85964912, 0.8245614 , 0.84210526, 0.85964912,\n",
              "        0.84210526, 0.85964912, 0.85964912, 0.85964912, 0.85964912,\n",
              "        0.84210526, 0.8245614 , 0.85964912, 0.85964912, 0.84210526,\n",
              "        0.85964912, 0.85964912, 0.84210526, 0.8245614 ]),\n",
              " 'split3_test_score': array([0.94736842, 0.94736842, 0.94736842, 0.94736842, 0.94736842,\n",
              "        0.94736842, 0.92982456, 0.94736842, 0.94736842, 0.94736842,\n",
              "        0.94736842, 0.94736842, 0.94736842, 0.94736842, 0.94736842,\n",
              "        0.94736842, 0.94736842, 0.94736842, 0.94736842, 0.94736842,\n",
              "        0.94736842, 0.94736842, 0.94736842, 0.94736842]),\n",
              " 'split4_test_score': array([0.94736842, 0.96491228, 0.94736842, 0.94736842, 0.92982456,\n",
              "        0.94736842, 0.94736842, 0.9122807 , 0.94736842, 0.94736842,\n",
              "        0.92982456, 0.94736842, 0.94736842, 0.94736842, 0.92982456,\n",
              "        0.92982456, 0.94736842, 0.92982456, 0.92982456, 0.9122807 ,\n",
              "        0.92982456, 0.9122807 , 0.92982456, 0.94736842]),\n",
              " 'mean_test_score': array([0.85426497, 0.85438596, 0.83702359, 0.84392015, 0.85771325,\n",
              "        0.84047187, 0.84392015, 0.83684211, 0.84392015, 0.8646703 ,\n",
              "        0.84041137, 0.84053237, 0.84742892, 0.85432547, 0.85426497,\n",
              "        0.84730792, 0.83006655, 0.84392015, 0.84736842, 0.84379915,\n",
              "        0.84736842, 0.84730792, 0.84730792, 0.84041137]),\n",
              " 'std_test_score': array([0.08096815, 0.09255376, 0.10221766, 0.0946718 , 0.07618293,\n",
              "        0.09736364, 0.08938936, 0.08159608, 0.0927687 , 0.07470067,\n",
              "        0.0942368 , 0.10263215, 0.0979479 , 0.08445251, 0.07860076,\n",
              "        0.08361476, 0.10500528, 0.08872177, 0.08631193, 0.0781338 ,\n",
              "        0.08492312, 0.07761021, 0.08072053, 0.09246139]),\n",
              " 'rank_test_score': array([ 6,  3, 22, 13,  2, 19, 13, 23, 13,  1, 20, 18,  7,  4,  5, 10, 24,\n",
              "        13,  8, 17,  8, 10, 10, 20])}"
            ]
          },
          "execution_count": 25,
          "metadata": {},
          "output_type": "execute_result"
        }
      ],
      "source": [
        "estimator_cl = RandomForestClassifier() # import the RF classifier\n",
        "# check the link for the introduction of RF: https://towardsdatascience.com/random-forest-3a55c3aca46d\n",
        "\n",
        "paras = {'n_estimators':list(range(40,80,5)), 'max_features':list(range(2,5,1))} \n",
        "## setting the ranges of hyperparameters\n",
        "## there are two hyperparameters in random forest classifier.One is the nnumber of  decision tress and another is the number of features\n",
        "\n",
        "grid_rf = GridSearchCV(estimator_cl, param_grid = paras, cv = 5)\n",
        "### using grid search and cross validation to search the optimal hyperparameters\n",
        "\n",
        "grid_rf.fit(X_data, class_data) \n",
        "\n",
        "## modelling \n",
        "\n",
        "grid_rf.cv_results_\n",
        "\n",
        "## showing the results for each possible combination of hyperparameters (# decision trees, #features) at each folder"
      ]
    },
    {
      "cell_type": "code",
      "execution_count": null,
      "metadata": {
        "id": "zzA6YjWOe1BS",
        "outputId": "dec00624-cdf5-4fee-9fe4-5d8fa41db34b"
      },
      "outputs": [
        {
          "data": {
            "text/plain": [
              "{'max_features': 3, 'n_estimators': 45}"
            ]
          },
          "execution_count": 26,
          "metadata": {},
          "output_type": "execute_result"
        }
      ],
      "source": [
        "grid_rf.best_params_\n",
        "\n",
        "## get the optimal hyperparameters"
      ]
    },
    {
      "cell_type": "code",
      "execution_count": null,
      "metadata": {
        "id": "8Ca9uQdke1BT",
        "outputId": "723a318f-79be-4367-ee0b-98b08bddaf25"
      },
      "outputs": [
        {
          "data": {
            "text/plain": [
              "0.864670296430732"
            ]
          },
          "execution_count": 27,
          "metadata": {},
          "output_type": "execute_result"
        }
      ],
      "source": [
        "grid_rf.best_score_\n"
      ]
    },
    {
      "cell_type": "markdown",
      "metadata": {
        "id": "ZYa9_OKSe1BX"
      },
      "source": [
        "#### 1.4 Next step"
      ]
    },
    {
      "cell_type": "code",
      "execution_count": null,
      "metadata": {
        "id": "sP-fGHvNe1BY"
      },
      "outputs": [],
      "source": [
        "# use the optimal hyperparameters to build the RF model trained with the whole dataset, allowing you to deploy the model. This is for small datasets. "
      ]
    }
  ],
  "metadata": {
    "kernelspec": {
      "display_name": "Python 3 (ipykernel)",
      "language": "python",
      "name": "python3"
    },
    "language_info": {
      "codemirror_mode": {
        "name": "ipython",
        "version": 3
      },
      "file_extension": ".py",
      "mimetype": "text/x-python",
      "name": "python",
      "nbconvert_exporter": "python",
      "pygments_lexer": "ipython3",
      "version": "3.11.1"
    },
    "colab": {
      "provenance": [],
      "include_colab_link": true
    }
  },
  "nbformat": 4,
  "nbformat_minor": 0
}